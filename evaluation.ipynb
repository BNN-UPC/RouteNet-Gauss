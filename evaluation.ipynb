{
 "cells": [
  {
   "cell_type": "markdown",
   "metadata": {},
   "source": [
    "# Evaluation\n",
    "\n",
    "Copyright 2025 Universitat Politècnica de Catalunya\n",
    "\n",
    "Licensed under the Apache License, Version 2.0 (the \"License\");\n",
    "you may not use this file except in compliance with the License.\n",
    "You may obtain a copy of the License at\n",
    "\n",
    "   http://www.apache.org/licenses/LICENSE-2.0\n",
    "\n",
    "Unless required by applicable law or agreed to in writing, software\n",
    "distributed under the License is distributed on an \"AS IS\" BASIS,\n",
    "WITHOUT WARRANTIES OR CONDITIONS OF ANY KIND, either express or implied.\n",
    "See the License for the specific language governing permissions and\n",
    "limitations under the License."
   ]
  },
  {
   "cell_type": "code",
   "execution_count": 1,
   "metadata": {},
   "outputs": [
    {
     "name": "stderr",
     "output_type": "stream",
     "text": [
      "2025-01-15 12:10:21.013425: I external/local_tsl/tsl/cuda/cudart_stub.cc:31] Could not find cuda drivers on your machine, GPU will not be used.\n",
      "2025-01-15 12:10:21.031249: E external/local_xla/xla/stream_executor/cuda/cuda_dnn.cc:9261] Unable to register cuDNN factory: Attempting to register factory for plugin cuDNN when one has already been registered\n",
      "2025-01-15 12:10:21.031268: E external/local_xla/xla/stream_executor/cuda/cuda_fft.cc:607] Unable to register cuFFT factory: Attempting to register factory for plugin cuFFT when one has already been registered\n",
      "2025-01-15 12:10:21.031787: E external/local_xla/xla/stream_executor/cuda/cuda_blas.cc:1515] Unable to register cuBLAS factory: Attempting to register factory for plugin cuBLAS when one has already been registered\n",
      "2025-01-15 12:10:21.034776: I external/local_tsl/tsl/cuda/cudart_stub.cc:31] Could not find cuda drivers on your machine, GPU will not be used.\n",
      "2025-01-15 12:10:21.034914: I tensorflow/core/platform/cpu_feature_guard.cc:182] This TensorFlow binary is optimized to use available CPU instructions in performance-critical operations.\n",
      "To enable the following instructions: AVX2 FMA, in other operations, rebuild TensorFlow with the appropriate compiler flags.\n",
      "2025-01-15 12:10:21.494423: W tensorflow/compiler/tf2tensorrt/utils/py_utils.cc:38] TF-TRT Warning: Could not find TensorRT\n"
     ]
    }
   ],
   "source": [
    "import os\n",
    "os.environ[\"CUDA_VISIBLE_DEVICES\"] = \"-1\"\n",
    "\n",
    "import tensorflow as tf\n",
    "import numpy as np\n",
    "from utils import prepare_targets_and_mask, load_dataset, seg_to_global_reshape\n",
    "from models import RouteNetGauss\n",
    "\n",
    "import pickle\n"
   ]
  },
  {
   "cell_type": "markdown",
   "metadata": {},
   "source": [
    "## Load datasets"
   ]
  },
  {
   "cell_type": "code",
   "execution_count": 2,
   "metadata": {},
   "outputs": [],
   "source": [
    "def load_and_format_dataset(path:str, metric:str) -> tf.data.Dataset:\n",
    "    \"\"\"Loads and formats the dataset for evaluation\n",
    "\n",
    "    Parameters\n",
    "    ----------\n",
    "    path : str\n",
    "        Name of the dataset and partition [training/validation/test] to load, in format\n",
    "        '{name}/{partition}'.\n",
    "    metric : str\n",
    "        Metric to load [delay, jitter].\n",
    "\n",
    "    Returns\n",
    "    -------\n",
    "    tf.data.Dataset\n",
    "        Formatted dataset.\n",
    "    \"\"\"\n",
    "    targets = [\n",
    "        f\"flow_avg_{metric}\",\n",
    "        f\"flow_p50_{metric}\",\n",
    "        f\"flow_p90_{metric}\",\n",
    "        f\"flow_p95_{metric}\",\n",
    "        f\"flow_p99_{metric}\",\n",
    "    ]\n",
    "    mask = f\"flow_has_{metric}\"\n",
    "    return load_dataset(path).map(prepare_targets_and_mask(targets, mask))\n",
    "\n",
    "def ds_to_dict(ds:tf.data.Dataset) -> dict:\n",
    "    \"\"\"Generates a dict with the \"sample_idx\" feature as key and samples as values.\n",
    "\n",
    "    Parameters\n",
    "    ----------\n",
    "    ds : tf.data.Dataset\n",
    "        Dataset to convert.\n",
    "\n",
    "    Returns\n",
    "    -------\n",
    "    dict\n",
    "        Resulting dictionary.\n",
    "    \"\"\"\n",
    "    return {x[\"sample_idx\"].numpy(): (x, y) for x, y in ds}"
   ]
  },
  {
   "cell_type": "code",
   "execution_count": 3,
   "metadata": {},
   "outputs": [
    {
     "name": "stderr",
     "output_type": "stream",
     "text": [
      "2025-01-15 12:10:22.144386: E external/local_xla/xla/stream_executor/cuda/cuda_driver.cc:274] failed call to cuInit: CUDA_ERROR_NO_DEVICE: no CUDA-capable device is detected\n",
      "2025-01-15 12:10:22.144424: I external/local_xla/xla/stream_executor/cuda/cuda_diagnostics.cc:129] retrieving CUDA diagnostic information for host: pluto\n",
      "2025-01-15 12:10:22.144431: I external/local_xla/xla/stream_executor/cuda/cuda_diagnostics.cc:136] hostname: pluto\n",
      "2025-01-15 12:10:22.144496: I external/local_xla/xla/stream_executor/cuda/cuda_diagnostics.cc:159] libcuda reported version is: 515.65.1\n",
      "2025-01-15 12:10:22.144514: I external/local_xla/xla/stream_executor/cuda/cuda_diagnostics.cc:163] kernel reported version is: 515.65.1\n",
      "2025-01-15 12:10:22.144519: I external/local_xla/xla/stream_executor/cuda/cuda_diagnostics.cc:241] kernel version seems to match DSO: 515.65.1\n"
     ]
    }
   ],
   "source": [
    "ds_mawi_pcaps_delay = load_and_format_dataset(\"mawi_pcaps/test\", \"delay\")\n",
    "ds_mawi_pcaps_jitter = load_and_format_dataset(\"mawi_pcaps/test\", \"jitter\")\n",
    "ds_mawi_pcaps_simulated_delay = load_and_format_dataset(\"mawi_pcaps_simulated/test\", \"delay\")\n",
    "ds_mawi_pcaps_simulated_jitter = load_and_format_dataset(\"mawi_pcaps_simulated/test\", \"jitter\")\n",
    "\n",
    "ds_trex_multiburst_delay = load_and_format_dataset(\"trex_multiburst/test\", \"delay\")\n",
    "ds_trex_multiburst_jitter = load_and_format_dataset(\"trex_multiburst/test\", \"jitter\")\n",
    "ds_trex_multiburst_simulated_delay = load_and_format_dataset(\"trex_multiburst_simulated/test\", \"delay\")\n",
    "ds_trex_multiburst_simulated_jitter = load_and_format_dataset(\"trex_multiburst_simulated/test\", \"jitter\")\n",
    "\n",
    "ds_trex_synthetic_delay = load_and_format_dataset(\"trex_synthetic/test\", \"delay\")\n",
    "ds_trex_synthetic_jitter = load_and_format_dataset(\"trex_synthetic/test\", \"jitter\")\n",
    "ds_trex_synthetic_simulated_delay = load_and_format_dataset(\"trex_synthetic_simulated/test\", \"delay\")\n",
    "ds_trex_synthetic_simulated_jitter = load_and_format_dataset(\"trex_synthetic_simulated/test\", \"jitter\")"
   ]
  },
  {
   "cell_type": "markdown",
   "metadata": {},
   "source": [
    "## Load models"
   ]
  },
  {
   "cell_type": "code",
   "execution_count": 4,
   "metadata": {},
   "outputs": [],
   "source": [
    "def load_model(\n",
    "    model_id: str,\n",
    "    checkpoint: str,\n",
    "    metric: str,\n",
    "    inference_mode:bool=True,\n",
    ") -> RouteNetGauss:\n",
    "    \"\"\"Loads a SPTGNN_node_queue_v4_multiple_out model from a checkpoint.\n",
    "\n",
    "    Parameters\n",
    "    ----------\n",
    "    model_id : str\n",
    "        Experiment identifier.\n",
    "    checkpoint : str\n",
    "        Checkpoint to load. To be loaded with tf.keras.Model.load_weights.\n",
    "    metric : str\n",
    "        Metric to load [delay, jitter].\n",
    "    inference_mode : bool, optional\n",
    "        Activate inference_mode in SPTGNN_node_queue_v4_multiple_out, by default True.\n",
    "\n",
    "    Returns\n",
    "    -------\n",
    "    SPTGNN_node_queue_v4_multiple_out\n",
    "        Loaded model.\n",
    "    \"\"\"\n",
    "    optimizer = tf.keras.optimizers.Adam(learning_rate=0.001, clipnorm=1.0)\n",
    "    loss = tf.keras.losses.MeanAbsolutePercentageError()\n",
    "    with open(f\"normalization/{model_id}/z_scores.pkl\", \"rb\") as ff:\n",
    "        z_scores = pickle.load(ff)\n",
    "\n",
    "    model = RouteNetGauss(\n",
    "        output_dim=5,\n",
    "        mask_field=f\"flow_has_{metric}\",\n",
    "        inference_mode=inference_mode,\n",
    "        use_trans_delay = metric == \"delay\",\n",
    "        z_scores=z_scores,\n",
    "    )\n",
    "    model.compile(optimizer=optimizer, loss=loss)\n",
    "    model.load_weights(f\"ckpt/{model_id}/{checkpoint}\").expect_partial()\n",
    "    return model"
   ]
  },
  {
   "cell_type": "code",
   "execution_count": 5,
   "metadata": {},
   "outputs": [],
   "source": [
    "model_mawi_pcaps_delay = load_model(\n",
    "    \"paper_weights/mawi_pcaps/RouteNetGauss/delay\",\n",
    "    \"178-22.4136\",\n",
    "    \"delay\",\n",
    ")\n",
    "model_mawi_pcaps_jitter = load_model(\n",
    "    \"paper_weights/mawi_pcaps/RouteNetGauss/jitter\",\n",
    "    \"183-16.1764\",\n",
    "    \"jitter\",\n",
    ")\n",
    "\n",
    "model_trex_multiburst_delay = load_model(\n",
    "    \"paper_weights/trex_multiburst_filtered/RouteNetGauss/delay\",\n",
    "    \"214-4.7122\",\n",
    "    \"delay\",\n",
    ")\n",
    "model_trex_multiburst_jitter = load_model(\n",
    "    \"paper_weights/trex_multiburst/RouteNetGauss/jitter\",\n",
    "    \"242-11.5459\",\n",
    "    \"jitter\",\n",
    ")\n",
    "\n",
    "model_trex_synthetic_delay = load_model(\n",
    "    \"paper_weights/trex_synthetic_filtered/RouteNetGauss/delay\",\n",
    "    \"221-2.8343\",\n",
    "    \"delay\",\n",
    ")\n",
    "\n",
    "model_trex_synthetic_jitter = load_model(\n",
    "    \"paper_weights/trex_synthetic/RouteNetGauss/jitter\",\n",
    "    \"244-9.8195\",\n",
    "    \"jitter\",\n",
    ")"
   ]
  },
  {
   "cell_type": "markdown",
   "metadata": {},
   "source": [
    "## Evaluation results"
   ]
  },
  {
   "cell_type": "code",
   "execution_count": 6,
   "metadata": {},
   "outputs": [],
   "source": [
    "def mape(y_true, y_pred):\n",
    "    return f\"{np.mean(np.abs((y_true - y_pred) / y_true)) * 100:.3f}%\"\n",
    "\n",
    "\n",
    "def mae(y_true, y_pred):\n",
    "    return f\"{np.mean(np.abs((y_true - y_pred)) * 1e6):.3f}μs\"\n",
    "\n",
    "\n",
    "def r2(y_true, y_pred):\n",
    "    return f\"{1 - np.sum(np.square(y_true - y_pred)) / np.sum(np.square(y_true - np.mean(y_true))):.3f}\"\n",
    "\n",
    "\n",
    "def concatenate_ds(ds: tf.data.Dataset) -> np.ndarray:\n",
    "    \"\"\"Transforms dataset into a numpy array. Used for evaluation.\n",
    "\n",
    "    Parameters\n",
    "    ----------\n",
    "    ds : tf.data.Dataset\n",
    "        Dataset to transform.\n",
    "\n",
    "    Returns\n",
    "    -------\n",
    "    np.ndarray\n",
    "        Numpy array with the concatenated targets.\n",
    "    \"\"\"\n",
    "    res = [y.numpy() for _, y in iter(ds)]\n",
    "    return np.concatenate(res, axis=0)\n",
    "\n",
    "\n",
    "def concatenate_ds_with_donor_mask(\n",
    "    ds: tf.data.Dataset, mask_ds: tf.data.Dataset, metric: str = \"jitter\"\n",
    ") -> np.ndarray:\n",
    "    \"\"\"Transforms dataset into a numpy array. Windows are selected to match mask_ds.\n",
    "    Used for evaluation.\n",
    "\n",
    "    Parameters\n",
    "    ----------\n",
    "    ds : tf.data.Dataset\n",
    "        Dataset to transform.\n",
    "    \n",
    "        ds : tf.data.Dataset\n",
    "        Dataset to transform.\n",
    "\n",
    "    Returns\n",
    "    -------\n",
    "    np.ndarray\n",
    "        Numpy array with the concatenated targets.\n",
    "    \"\"\"\n",
    "    res = []\n",
    "    targets = [\n",
    "        f\"flow_avg_{metric}\",\n",
    "        f\"flow_p50_{metric}\",\n",
    "        f\"flow_p90_{metric}\",\n",
    "        f\"flow_p95_{metric}\",\n",
    "        f\"flow_p99_{metric}\",\n",
    "    ]\n",
    "    mask = f\"flow_has_{metric}\"\n",
    "    for x, _ in iter(ds):\n",
    "        mask_field = mask_ds[x[\"sample_idx\"].numpy()][0][mask]\n",
    "        reshaped_mask = tf.expand_dims(seg_to_global_reshape(mask_field, num_dims=2), 1)\n",
    "        val = tf.concat(\n",
    "            [\n",
    "                tf.reshape(\n",
    "                    tf.boolean_mask(seg_to_global_reshape(x[target]), reshaped_mask),\n",
    "                    (-1, 1),\n",
    "                )\n",
    "                for target in targets\n",
    "            ],\n",
    "            axis=1,\n",
    "        )\n",
    "        res.append(val.numpy())\n",
    "    total = np.concatenate(res, axis=0)\n",
    "    total[total <= 0] = 0\n",
    "    return total\n",
    "\n",
    "\n",
    "def evaluate_model_vs_sim(\n",
    "    true_ds: tf.data.Dataset,\n",
    "    simulated_ds: tf.data.Dataset,\n",
    "    model: RouteNetGauss,\n",
    "    metric: str,\n",
    ") -> None:\n",
    "    \"\"\"Generates a summary report comparing the model's predictions against the\n",
    "    simulator's.\n",
    "\n",
    "    Parameters\n",
    "    ----------\n",
    "    true_ds : tf.data.Dataset\n",
    "        Dataset representing the ground truth (testbed).\n",
    "    simulated_ds : tf.data.Dataset\n",
    "        Dataset representing the simulator's prediction of the ground truth.\n",
    "    model : RouteNetGauss\n",
    "        Trained RouteNet-Gauss model.\n",
    "    metric : str\n",
    "        Name of perfomance metric [delay, jitter] to evaluate.\n",
    "    \"\"\"\n",
    "\n",
    "    numpy_true_ds = concatenate_ds(true_ds)\n",
    "    numpy_pred_ds = model.predict(true_ds)\n",
    "    numpy_simulated_ds = concatenate_ds_with_donor_mask(\n",
    "            simulated_ds, ds_to_dict(true_ds), metric.lower()\n",
    "        )\n",
    "\n",
    "    for ii, agg in enumerate(\n",
    "        [\"Average\", \"Median\", \"90th Percentile\", \"95th Percentile\", \"99th Percentile\"]\n",
    "    ):\n",
    "        for err_metric in [mape, mae, r2]:\n",
    "            print(\n",
    "                f\"{agg} {metric} ({err_metric.__name__}):\",\n",
    "                f\"RouteNet-Gauss {err_metric(numpy_true_ds[:, ii], numpy_pred_ds[:, ii])}\",\n",
    "                f\"OMNeT++ {err_metric(numpy_true_ds[:, ii], numpy_simulated_ds[:, ii])}\",\n",
    "            )\n",
    "        print()"
   ]
  },
  {
   "cell_type": "markdown",
   "metadata": {},
   "source": [
    "### TREX Synthetic"
   ]
  },
  {
   "cell_type": "code",
   "execution_count": 7,
   "metadata": {},
   "outputs": [
    {
     "name": "stdout",
     "output_type": "stream",
     "text": [
      "178/178 [==============================] - 60s 310ms/step\n",
      "Average Delay (mape): RouteNet-Gauss 2.604% OMNeT++ 53.684%\n",
      "Average Delay (mae): RouteNet-Gauss 3.128μs OMNeT++ 63.486μs\n",
      "Average Delay (r2): RouteNet-Gauss 0.941 OMNeT++ -4.337\n",
      "\n",
      "Median Delay (mape): RouteNet-Gauss 2.790% OMNeT++ 54.325%\n",
      "Median Delay (mae): RouteNet-Gauss 3.305μs OMNeT++ 63.714μs\n",
      "Median Delay (r2): RouteNet-Gauss 0.939 OMNeT++ -4.389\n",
      "\n",
      "90th Percentile Delay (mape): RouteNet-Gauss 2.418% OMNeT++ 47.311%\n",
      "90th Percentile Delay (mae): RouteNet-Gauss 3.136μs OMNeT++ 61.355μs\n",
      "90th Percentile Delay (r2): RouteNet-Gauss 0.942 OMNeT++ -3.741\n",
      "\n",
      "95th Percentile Delay (mape): RouteNet-Gauss 2.591% OMNeT++ 45.609%\n",
      "95th Percentile Delay (mae): RouteNet-Gauss 3.442μs OMNeT++ 60.859μs\n",
      "95th Percentile Delay (r2): RouteNet-Gauss 0.935 OMNeT++ -3.553\n",
      "\n",
      "99th Percentile Delay (mape): RouteNet-Gauss 3.121% OMNeT++ 42.814%\n",
      "99th Percentile Delay (mae): RouteNet-Gauss 4.351μs OMNeT++ 60.112μs\n",
      "99th Percentile Delay (r2): RouteNet-Gauss 0.909 OMNeT++ -3.184\n",
      "\n"
     ]
    }
   ],
   "source": [
    "evaluate_model_vs_sim(\n",
    "    ds_trex_synthetic_delay,\n",
    "    ds_trex_synthetic_simulated_delay,\n",
    "    model_trex_synthetic_delay,\n",
    "    \"Delay\",\n",
    ")"
   ]
  },
  {
   "cell_type": "code",
   "execution_count": 8,
   "metadata": {},
   "outputs": [
    {
     "name": "stdout",
     "output_type": "stream",
     "text": [
      "178/178 [==============================] - 58s 303ms/step\n",
      "Average Jitter (mape): RouteNet-Gauss 9.447% OMNeT++ 24.999%\n",
      "Average Jitter (mae): RouteNet-Gauss 0.792μs OMNeT++ 2.122μs\n",
      "Average Jitter (r2): RouteNet-Gauss 0.757 OMNeT++ -0.584\n",
      "\n",
      "Median Jitter (mape): RouteNet-Gauss 11.881% OMNeT++ 27.549%\n",
      "Median Jitter (mae): RouteNet-Gauss 0.814μs OMNeT++ 1.919μs\n",
      "Median Jitter (r2): RouteNet-Gauss 0.711 OMNeT++ -0.509\n",
      "\n",
      "90th Percentile Jitter (mape): RouteNet-Gauss 9.347% OMNeT++ 25.221%\n",
      "90th Percentile Jitter (mae): RouteNet-Gauss 1.610μs OMNeT++ 4.447μs\n",
      "90th Percentile Jitter (r2): RouteNet-Gauss 0.754 OMNeT++ -0.799\n",
      "\n",
      "95th Percentile Jitter (mape): RouteNet-Gauss 9.074% OMNeT++ 24.172%\n",
      "95th Percentile Jitter (mae): RouteNet-Gauss 1.866μs OMNeT++ 5.118μs\n",
      "95th Percentile Jitter (r2): RouteNet-Gauss 0.748 OMNeT++ -0.702\n",
      "\n",
      "99th Percentile Jitter (mape): RouteNet-Gauss 9.609% OMNeT++ 23.097%\n",
      "99th Percentile Jitter (mae): RouteNet-Gauss 2.558μs OMNeT++ 6.418μs\n",
      "99th Percentile Jitter (r2): RouteNet-Gauss 0.700 OMNeT++ -0.482\n",
      "\n"
     ]
    }
   ],
   "source": [
    "evaluate_model_vs_sim(\n",
    "    ds_trex_synthetic_jitter,\n",
    "    ds_trex_synthetic_simulated_jitter,\n",
    "    model_trex_synthetic_jitter,\n",
    "    \"Jitter\",\n",
    ")"
   ]
  },
  {
   "cell_type": "markdown",
   "metadata": {},
   "source": [
    "### TREX MULTIBURST"
   ]
  },
  {
   "cell_type": "code",
   "execution_count": 9,
   "metadata": {},
   "outputs": [
    {
     "name": "stdout",
     "output_type": "stream",
     "text": [
      "51/51 [==============================] - 23s 375ms/step\n",
      "Average Delay (mape): RouteNet-Gauss 2.277% OMNeT++ 56.122%\n",
      "Average Delay (mae): RouteNet-Gauss 2.809μs OMNeT++ 67.807μs\n",
      "Average Delay (r2): RouteNet-Gauss 0.921 OMNeT++ -4.508\n",
      "\n",
      "Median Delay (mape): RouteNet-Gauss 2.480% OMNeT++ 57.353%\n",
      "Median Delay (mae): RouteNet-Gauss 3.006μs OMNeT++ 68.646μs\n",
      "Median Delay (r2): RouteNet-Gauss 0.924 OMNeT++ -4.689\n",
      "\n",
      "90th Percentile Delay (mape): RouteNet-Gauss 2.289% OMNeT++ 48.504%\n",
      "90th Percentile Delay (mae): RouteNet-Gauss 3.119μs OMNeT++ 64.347μs\n",
      "90th Percentile Delay (r2): RouteNet-Gauss 0.833 OMNeT++ -3.311\n",
      "\n",
      "95th Percentile Delay (mape): RouteNet-Gauss 2.529% OMNeT++ 46.355%\n",
      "95th Percentile Delay (mae): RouteNet-Gauss 3.523μs OMNeT++ 63.354μs\n",
      "95th Percentile Delay (r2): RouteNet-Gauss 0.826 OMNeT++ -3.095\n",
      "\n",
      "99th Percentile Delay (mape): RouteNet-Gauss 3.188% OMNeT++ 43.007%\n",
      "99th Percentile Delay (mae): RouteNet-Gauss 4.614μs OMNeT++ 61.940μs\n",
      "99th Percentile Delay (r2): RouteNet-Gauss 0.814 OMNeT++ -2.784\n",
      "\n"
     ]
    }
   ],
   "source": [
    "evaluate_model_vs_sim(\n",
    "    ds_trex_multiburst_delay,\n",
    "    ds_trex_multiburst_simulated_delay,\n",
    "    model_trex_multiburst_delay,\n",
    "    \"Delay\",\n",
    ")"
   ]
  },
  {
   "cell_type": "code",
   "execution_count": 10,
   "metadata": {},
   "outputs": [
    {
     "name": "stdout",
     "output_type": "stream",
     "text": [
      "51/51 [==============================] - 24s 370ms/step\n",
      "Average Jitter (mape): RouteNet-Gauss 10.711% OMNeT++ 37.435%\n",
      "Average Jitter (mae): RouteNet-Gauss 0.967μs OMNeT++ 3.244μs\n",
      "Average Jitter (r2): RouteNet-Gauss 0.529 OMNeT++ -1.980\n",
      "\n",
      "Median Jitter (mape): RouteNet-Gauss 13.680% OMNeT++ 41.358%\n",
      "Median Jitter (mae): RouteNet-Gauss 1.022μs OMNeT++ 2.926μs\n",
      "Median Jitter (r2): RouteNet-Gauss 0.431 OMNeT++ -1.790\n",
      "\n",
      "90th Percentile Jitter (mape): RouteNet-Gauss 10.934% OMNeT++ 39.311%\n",
      "90th Percentile Jitter (mae): RouteNet-Gauss 1.949μs OMNeT++ 7.005μs\n",
      "90th Percentile Jitter (r2): RouteNet-Gauss 0.625 OMNeT++ -2.488\n",
      "\n",
      "95th Percentile Jitter (mape): RouteNet-Gauss 10.913% OMNeT++ 37.906%\n",
      "95th Percentile Jitter (mae): RouteNet-Gauss 2.281μs OMNeT++ 8.055μs\n",
      "95th Percentile Jitter (r2): RouteNet-Gauss 0.632 OMNeT++ -2.230\n",
      "\n",
      "99th Percentile Jitter (mape): RouteNet-Gauss 11.824% OMNeT++ 35.792%\n",
      "99th Percentile Jitter (mae): RouteNet-Gauss 3.112μs OMNeT++ 9.818μs\n",
      "99th Percentile Jitter (r2): RouteNet-Gauss 0.633 OMNeT++ -1.657\n",
      "\n"
     ]
    }
   ],
   "source": [
    "evaluate_model_vs_sim(\n",
    "    ds_trex_multiburst_jitter,\n",
    "    ds_trex_multiburst_simulated_jitter,\n",
    "    model_trex_multiburst_jitter,\n",
    "    \"Jitter\",\n",
    ")"
   ]
  },
  {
   "cell_type": "markdown",
   "metadata": {},
   "source": [
    "### MAWI PCAPS"
   ]
  },
  {
   "cell_type": "code",
   "execution_count": 11,
   "metadata": {},
   "outputs": [
    {
     "name": "stdout",
     "output_type": "stream",
     "text": [
      "172/172 [==============================] - 47s 245ms/step\n",
      "Average Delay (mape): RouteNet-Gauss 14.749% OMNeT++ 93.075%\n",
      "Average Delay (mae): RouteNet-Gauss 47.217μs OMNeT++ 126.088μs\n",
      "Average Delay (r2): RouteNet-Gauss 0.055 OMNeT++ -0.991\n",
      "\n",
      "Median Delay (mape): RouteNet-Gauss 12.372% OMNeT++ 82.611%\n",
      "Median Delay (mae): RouteNet-Gauss 27.522μs OMNeT++ 90.462μs\n",
      "Median Delay (r2): RouteNet-Gauss 0.045 OMNeT++ -1.017\n",
      "\n",
      "90th Percentile Delay (mape): RouteNet-Gauss 20.122% OMNeT++ 131.792%\n",
      "90th Percentile Delay (mae): RouteNet-Gauss 134.366μs OMNeT++ 283.835μs\n",
      "90th Percentile Delay (r2): RouteNet-Gauss 0.011 OMNeT++ -0.961\n",
      "\n",
      "95th Percentile Delay (mape): RouteNet-Gauss 24.316% OMNeT++ 147.495%\n",
      "95th Percentile Delay (mae): RouteNet-Gauss 187.471μs OMNeT++ 368.629μs\n",
      "95th Percentile Delay (r2): RouteNet-Gauss -0.005 OMNeT++ -0.934\n",
      "\n",
      "99th Percentile Delay (mape): RouteNet-Gauss 32.889% OMNeT++ 158.056%\n",
      "99th Percentile Delay (mae): RouteNet-Gauss 289.536μs OMNeT++ 503.644μs\n",
      "99th Percentile Delay (r2): RouteNet-Gauss -0.037 OMNeT++ -0.770\n",
      "\n"
     ]
    }
   ],
   "source": [
    "evaluate_model_vs_sim(\n",
    "    ds_mawi_pcaps_delay,\n",
    "    ds_mawi_pcaps_simulated_delay,\n",
    "    model_mawi_pcaps_delay,\n",
    "    \"Delay\",\n",
    ")"
   ]
  },
  {
   "cell_type": "code",
   "execution_count": 12,
   "metadata": {},
   "outputs": [
    {
     "name": "stdout",
     "output_type": "stream",
     "text": [
      "172/172 [==============================] - 46s 240ms/step\n",
      "Average Jitter (mape): RouteNet-Gauss 14.445% OMNeT++ 46.439%\n",
      "Average Jitter (mae): RouteNet-Gauss 2.335μs OMNeT++ 6.590μs\n",
      "Average Jitter (r2): RouteNet-Gauss 0.590 OMNeT++ -0.959\n",
      "\n",
      "Median Jitter (mape): RouteNet-Gauss 21.518% OMNeT++ 84.287%\n",
      "Median Jitter (mae): RouteNet-Gauss 1.484μs OMNeT++ 4.897μs\n",
      "Median Jitter (r2): RouteNet-Gauss 0.701 OMNeT++ -1.096\n",
      "\n",
      "90th Percentile Jitter (mape): RouteNet-Gauss 14.994% OMNeT++ 41.095%\n",
      "90th Percentile Jitter (mae): RouteNet-Gauss 6.047μs OMNeT++ 14.681μs\n",
      "90th Percentile Jitter (r2): RouteNet-Gauss 0.468 OMNeT++ -0.912\n",
      "\n",
      "95th Percentile Jitter (mape): RouteNet-Gauss 13.621% OMNeT++ 38.560%\n",
      "95th Percentile Jitter (mae): RouteNet-Gauss 8.106μs OMNeT++ 19.653μs\n",
      "95th Percentile Jitter (r2): RouteNet-Gauss 0.405 OMNeT++ -0.868\n",
      "\n",
      "99th Percentile Jitter (mape): RouteNet-Gauss 16.493% OMNeT++ 48.971%\n",
      "99th Percentile Jitter (mae): RouteNet-Gauss 20.527μs OMNeT++ 43.000μs\n",
      "99th Percentile Jitter (r2): RouteNet-Gauss 0.271 OMNeT++ -0.764\n",
      "\n"
     ]
    }
   ],
   "source": [
    "evaluate_model_vs_sim(\n",
    "    ds_mawi_pcaps_jitter,\n",
    "    ds_mawi_pcaps_simulated_jitter,\n",
    "    model_mawi_pcaps_jitter,\n",
    "    \"Jitter\",\n",
    ")"
   ]
  }
 ],
 "metadata": {
  "kernelspec": {
   "display_name": "TF2.15",
   "language": "python",
   "name": "python3"
  },
  "language_info": {
   "codemirror_mode": {
    "name": "ipython",
    "version": 3
   },
   "file_extension": ".py",
   "mimetype": "text/x-python",
   "name": "python",
   "nbconvert_exporter": "python",
   "pygments_lexer": "ipython3",
   "version": "3.9.5"
  }
 },
 "nbformat": 4,
 "nbformat_minor": 2
}
